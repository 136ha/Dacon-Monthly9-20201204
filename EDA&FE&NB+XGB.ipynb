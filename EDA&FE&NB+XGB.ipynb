{
 "cells": [
  {
   "cell_type": "markdown",
   "metadata": {
    "_cell_guid": "c1e253a3-3bef-4da6-8557-06df65d1dbbf",
    "_uuid": "c0ec3c7f61accf167470db85ee5ed0f3a9900c60"
   },
   "source": [
    "# EDA"
   ]
  },
  {
   "cell_type": "code",
   "execution_count": 1,
   "metadata": {
    "ExecuteTime": {
     "end_time": "2017-10-27T11:18:45.335899Z",
     "start_time": "2017-10-27T11:18:44.306786Z"
    },
    "_cell_guid": "caffeedb-2c13-4a62-81fd-c24091d8269c",
    "_uuid": "3b2d041d1e34866820c0ea79419de8c28a2924c4"
   },
   "outputs": [],
   "source": [
    "import pandas as pd\n",
    "import numpy as np\n",
    "%config InlineBackend.figure_format = 'svg'\n",
    "pd.options.display.max_colwidth = 160"
   ]
  },
  {
   "cell_type": "markdown",
   "metadata": {
    "_cell_guid": "2dc0bea1-ed1e-43fe-ba19-78a086277e6f",
    "_uuid": "ce0134125041427968cad09913087e56293a4d75"
   },
   "source": [
    "## Load data"
   ]
  },
  {
   "cell_type": "code",
   "execution_count": 2,
   "metadata": {
    "ExecuteTime": {
     "end_time": "2017-10-27T11:18:45.480612Z",
     "start_time": "2017-10-27T11:18:45.338304Z"
    },
    "_cell_guid": "2e4cac84-8084-4072-a946-72b304074f4d",
    "_uuid": "a303a85894b6a09dc272f9ff4e26a523d0331a05"
   },
   "outputs": [],
   "source": [
    "train = pd.read_csv(\"train.csv\", encoding = 'utf-8')\n",
    "test = pd.read_csv(\"test_x.csv\", encoding = 'utf-8')\n",
    "submission = pd.read_csv(\"sample_submission.csv\", encoding = 'utf-8')"
   ]
  },
  {
   "cell_type": "code",
   "execution_count": 3,
   "metadata": {
    "ExecuteTime": {
     "end_time": "2017-10-27T11:18:45.518506Z",
     "start_time": "2017-10-27T11:18:45.511586Z"
    },
    "_cell_guid": "9ea0a246-afeb-4e3c-a7aa-ffd203d65e08",
    "_uuid": "947ad2de161e67c61845486789e4367cbac70f80"
   },
   "outputs": [
    {
     "data": {
      "text/plain": [
       "((54879, 3), (19617, 2))"
      ]
     },
     "execution_count": 3,
     "metadata": {},
     "output_type": "execute_result"
    }
   ],
   "source": [
    "train.shape, test.shape"
   ]
  },
  {
   "cell_type": "code",
   "execution_count": 4,
   "metadata": {
    "ExecuteTime": {
     "end_time": "2017-10-27T11:18:45.541225Z",
     "start_time": "2017-10-27T11:18:45.521268Z"
    },
    "_cell_guid": "ac6bd238-5e19-47dd-9839-da09cab5b364",
    "_uuid": "6d86597a2c39971376eed034ade82e0ca710f956"
   },
   "outputs": [
    {
     "data": {
      "text/html": [
       "<div>\n",
       "<style scoped>\n",
       "    .dataframe tbody tr th:only-of-type {\n",
       "        vertical-align: middle;\n",
       "    }\n",
       "\n",
       "    .dataframe tbody tr th {\n",
       "        vertical-align: top;\n",
       "    }\n",
       "\n",
       "    .dataframe thead th {\n",
       "        text-align: right;\n",
       "    }\n",
       "</style>\n",
       "<table border=\"1\" class=\"dataframe\">\n",
       "  <thead>\n",
       "    <tr style=\"text-align: right;\">\n",
       "      <th></th>\n",
       "      <th>index</th>\n",
       "      <th>text</th>\n",
       "      <th>author</th>\n",
       "    </tr>\n",
       "  </thead>\n",
       "  <tbody>\n",
       "    <tr>\n",
       "      <th>0</th>\n",
       "      <td>0</td>\n",
       "      <td>He was almost choking. There was so much, so much he wanted to say, but strange exclamations were all that came from his lips. The Pole gazed fixedly at him...</td>\n",
       "      <td>3</td>\n",
       "    </tr>\n",
       "    <tr>\n",
       "      <th>1</th>\n",
       "      <td>1</td>\n",
       "      <td>“Your sister asked for it, I suppose?”</td>\n",
       "      <td>2</td>\n",
       "    </tr>\n",
       "    <tr>\n",
       "      <th>2</th>\n",
       "      <td>2</td>\n",
       "      <td>She was engaged one day as she walked, in perusing Jane’s last letter, and dwelling on some passages which proved that Jane had not written in spirits, whe...</td>\n",
       "      <td>1</td>\n",
       "    </tr>\n",
       "    <tr>\n",
       "      <th>3</th>\n",
       "      <td>3</td>\n",
       "      <td>The captain was in the porch, keeping himself carefully out of the way of a treacherous shot, should any be intended. He turned and spoke to us, “Doctor's w...</td>\n",
       "      <td>4</td>\n",
       "    </tr>\n",
       "    <tr>\n",
       "      <th>4</th>\n",
       "      <td>4</td>\n",
       "      <td>“Have mercy, gentlemen!” odin flung up his hands. “Don’t write that, anyway; have some shame. Here I’ve torn my heart asunder before you, and you seize the ...</td>\n",
       "      <td>3</td>\n",
       "    </tr>\n",
       "  </tbody>\n",
       "</table>\n",
       "</div>"
      ],
      "text/plain": [
       "   index  \\\n",
       "0      0   \n",
       "1      1   \n",
       "2      2   \n",
       "3      3   \n",
       "4      4   \n",
       "\n",
       "                                                                                                                                                              text  \\\n",
       "0  He was almost choking. There was so much, so much he wanted to say, but strange exclamations were all that came from his lips. The Pole gazed fixedly at him...   \n",
       "1                                                                                                                           “Your sister asked for it, I suppose?”   \n",
       "2   She was engaged one day as she walked, in perusing Jane’s last letter, and dwelling on some passages which proved that Jane had not written in spirits, whe...   \n",
       "3  The captain was in the porch, keeping himself carefully out of the way of a treacherous shot, should any be intended. He turned and spoke to us, “Doctor's w...   \n",
       "4  “Have mercy, gentlemen!” odin flung up his hands. “Don’t write that, anyway; have some shame. Here I’ve torn my heart asunder before you, and you seize the ...   \n",
       "\n",
       "   author  \n",
       "0       3  \n",
       "1       2  \n",
       "2       1  \n",
       "3       4  \n",
       "4       3  "
      ]
     },
     "execution_count": 4,
     "metadata": {},
     "output_type": "execute_result"
    }
   ],
   "source": [
    "train.head()"
   ]
  },
  {
   "cell_type": "markdown",
   "metadata": {
    "_cell_guid": "5c8cd05f-873a-475e-a3b2-44e052c86943",
    "_uuid": "11bac0598dd7f012b78557d55403cb6bc7fbe0e7",
    "collapsed": true
   },
   "source": [
    "# Preprocessing"
   ]
  },
  {
   "cell_type": "code",
   "execution_count": 5,
   "metadata": {
    "_cell_guid": "74d10336-390a-4018-a59c-0adb37c9e2e9",
    "_uuid": "0b2b131c72dac34474cbea5c3c1a82be5e84ffbd"
   },
   "outputs": [],
   "source": [
    "import spacy\n",
    "from spacy.lang.en import English\n",
    "import nltk"
   ]
  },
  {
   "cell_type": "code",
   "execution_count": 6,
   "metadata": {
    "ExecuteTime": {
     "end_time": "2017-10-27T11:18:54.952976Z",
     "start_time": "2017-10-27T11:18:53.34589Z"
    },
    "_cell_guid": "8742aedb-b772-4db9-95fa-f1a77e07ae83",
    "_uuid": "5f01ab7a1ef0d7c6cdb3cfaac36ebad155230867"
   },
   "outputs": [],
   "source": [
    "nlp = spacy.lang.en.English()"
   ]
  },
  {
   "cell_type": "code",
   "execution_count": 7,
   "metadata": {
    "_cell_guid": "1a24cebc-0627-4f46-8d97-16bf7b035392",
    "_uuid": "5db43585bbbd879f60a1eb5f6d2b2a996c006968"
   },
   "outputs": [],
   "source": [
    "# add custom stop words\n",
    "spacy.lang.en.STOP_WORDS.add(\"'s\")\n",
    "for word in spacy.lang.en.STOP_WORDS:\n",
    "    lexeme = nlp.vocab[word]\n",
    "    lexeme.is_stop = True"
   ]
  },
  {
   "cell_type": "code",
   "execution_count": 8,
   "metadata": {
    "_cell_guid": "880d23aa-c527-4bdb-9dce-b0eeee45581e",
    "_uuid": "a49f2bd46dc6df586a0d6abf118f250a3c3fc310"
   },
   "outputs": [],
   "source": [
    "def replace_ents(doc):\n",
    "    prefix = 'ent__'\n",
    "    text = str(doc.doc)\n",
    "    for ent in doc.ents:\n",
    "        text = text.replace(ent.orth_, prefix + ent.label_)\n",
    "    return text"
   ]
  },
  {
   "cell_type": "code",
   "execution_count": 9,
   "metadata": {
    "_cell_guid": "b75be33a-aecf-4d72-a6bc-d9fce4b1908e",
    "_uuid": "c06143b26f143f5f9f19e18d2d4d1e83c9a25bbf"
   },
   "outputs": [],
   "source": [
    "def preprocess(df):\n",
    "    print('Started parsing...')\n",
    "    doc = df.text.apply(nlp)\n",
    "    print('Text parsed')\n",
    "    \n",
    "    df['n_char']   = df.text.apply(len)\n",
    "    df['n_words']  = doc.apply(lambda x: len([t for t in x if not t.is_punct]))\n",
    "    df['n_punct']  = doc.apply(lambda x: len([t for t in x if t.is_punct]))\n",
    "    df['n_ents']   = doc.apply(lambda x: len(x.ents))\n",
    "    df['n_unique_words'] = doc.apply(lambda x: len(set([t.lower_ for t in x if not t.is_punct])))\n",
    "    df['n_stop_words']   = doc.apply(lambda x: len([t for t in x if t.is_stop]))\n",
    "    df['char_by_word']   = doc.apply(lambda x: np.mean([len(t.orth_) for t in x if not t.is_punct]))\n",
    "    print('Features created')\n",
    "    \n",
    "    df['text_ent_repl'] = doc.apply(replace_ents)\n",
    "    print('Entities replaced')\n",
    "    \n",
    "    clean_and_lemmatize = lambda x: ' '.join([t.lemma_ for t in x if not t.is_punct and not t.is_stop])\n",
    "    df['text_cleaned'] = doc.apply(clean_and_lemmatize)\n",
    "    print('Text cleaned')"
   ]
  },
  {
   "cell_type": "code",
   "execution_count": 10,
   "metadata": {
    "_cell_guid": "2e5ed4d6-5530-495a-929d-51a1e64e05c4",
    "_uuid": "a97b61c1b5a25a333ab837d4ddd0013c81aa8da6",
    "scrolled": true
   },
   "outputs": [
    {
     "name": "stdout",
     "output_type": "stream",
     "text": [
      "Started parsing...\n",
      "Text parsed\n"
     ]
    },
    {
     "name": "stderr",
     "output_type": "stream",
     "text": [
      "C:\\Users\\82104\\Anaconda3\\lib\\site-packages\\numpy\\core\\fromnumeric.py:3373: RuntimeWarning: Mean of empty slice.\n",
      "  out=out, **kwargs)\n"
     ]
    },
    {
     "name": "stdout",
     "output_type": "stream",
     "text": [
      "Features created\n",
      "Entities replaced\n",
      "Text cleaned\n",
      "Wall time: 19.6 s\n"
     ]
    }
   ],
   "source": [
    "%%time\n",
    "preprocess(train)"
   ]
  },
  {
   "cell_type": "code",
   "execution_count": 11,
   "metadata": {
    "_cell_guid": "eb866c68-9956-438d-a976-b4300f938a5c",
    "_uuid": "8f1ec0e737c39107eb4d23d5e057eda52a2c700a"
   },
   "outputs": [
    {
     "name": "stdout",
     "output_type": "stream",
     "text": [
      "Started parsing...\n",
      "Text parsed\n",
      "Features created\n",
      "Entities replaced\n",
      "Text cleaned\n",
      "Wall time: 13.4 s\n"
     ]
    }
   ],
   "source": [
    "%%time\n",
    "preprocess(test)"
   ]
  },
  {
   "cell_type": "markdown",
   "metadata": {
    "_cell_guid": "a7c617cd-6dcc-4762-bab3-fc1ecd9c90d0",
    "_uuid": "bfdeadc210b1d85519d48ee749aa4af4093ad945"
   },
   "source": [
    "# Models"
   ]
  },
  {
   "cell_type": "code",
   "execution_count": 12,
   "metadata": {
    "_cell_guid": "14857acc-6212-45c9-82a2-fcb55fc7efda",
    "_uuid": "88aeafb584b18f3c1156ef69daf8e5fc7558cd73"
   },
   "outputs": [],
   "source": [
    "from sklearn.feature_extraction.text import CountVectorizer, TfidfVectorizer\n",
    "from sklearn.model_selection import cross_val_score, train_test_split\n",
    "from sklearn.preprocessing import LabelEncoder\n",
    "\n",
    "from sklearn.linear_model import LogisticRegression\n",
    "from sklearn.naive_bayes import MultinomialNB\n",
    "\n",
    "from sklearn.pipeline import Pipeline"
   ]
  },
  {
   "cell_type": "code",
   "execution_count": 13,
   "metadata": {
    "_cell_guid": "f0471dab-cad4-43ca-a4b5-8954910ac353",
    "_uuid": "27eca9dd04519bd7f204952a5d36492c7526bf8e"
   },
   "outputs": [],
   "source": [
    "y = train.author"
   ]
  },
  {
   "cell_type": "markdown",
   "metadata": {
    "_cell_guid": "750ee574-32eb-4f9d-9832-d78c8f0dacbe",
    "_uuid": "cf6ca52bc27845203c2dc46ae43b59460072d362"
   },
   "source": [
    "### CountVect + untouched text"
   ]
  },
  {
   "cell_type": "code",
   "execution_count": 14,
   "metadata": {
    "_cell_guid": "4418a149-b63f-4b48-afa1-8b388e7b7660",
    "_uuid": "65ba8aac6078cd56e60e9b7190db3dde8cec66e6"
   },
   "outputs": [],
   "source": [
    "vectorizer = CountVectorizer(\n",
    "    token_pattern=r'\\w{1,}',\n",
    "    ngram_range=(1, 2), stop_words='english'\n",
    ")\n",
    "X = vectorizer.fit_transform(train.text)"
   ]
  },
  {
   "cell_type": "code",
   "execution_count": 15,
   "metadata": {
    "_cell_guid": "285376f2-f546-40af-8984-ef68dae636d8",
    "_uuid": "2f344aabb101285b351cdea83c69cf80b36f2568"
   },
   "outputs": [
    {
     "name": "stdout",
     "output_type": "stream",
     "text": [
      "LogLoss: 0.725 +- 0.036\n",
      "Wall time: 11min 8s\n"
     ]
    }
   ],
   "source": [
    "%%time\n",
    "scores = cross_val_score(LogisticRegression(), X, y, cv=10, n_jobs=-1, scoring='neg_log_loss')\n",
    "print('LogLoss: %.3f +- %.3f' % (-np.mean(scores), 2*np.std(scores)))"
   ]
  },
  {
   "cell_type": "code",
   "execution_count": 16,
   "metadata": {
    "_cell_guid": "3b7c66de-3506-4ebe-b95a-2c437fb9f728",
    "_uuid": "f51553c7508a21ebc261b8dc0f9f59969f95af92"
   },
   "outputs": [
    {
     "name": "stdout",
     "output_type": "stream",
     "text": [
      "LogLoss: 1.039 +- 0.077\n",
      "Wall time: 2.09 s\n"
     ]
    }
   ],
   "source": [
    "%%time\n",
    "scores = cross_val_score(MultinomialNB(), X, y, cv=10, n_jobs=-1, scoring='neg_log_loss')\n",
    "print('LogLoss: %.3f +- %.3f' % (-np.mean(scores), 2*np.std(scores)))"
   ]
  },
  {
   "cell_type": "markdown",
   "metadata": {
    "_cell_guid": "ac020564-14ac-405f-b1b1-748d3f48d3f9",
    "_uuid": "563cbde7cb2b7b50cf836305d791371505019c2a"
   },
   "source": [
    "### CountVect + cleaned text"
   ]
  },
  {
   "cell_type": "code",
   "execution_count": 17,
   "metadata": {
    "_cell_guid": "d3265ca4-5770-4ba0-bc85-e8e41d4cd1ca",
    "_uuid": "9293c5f75523b2235738d617ecf03bb52104e579"
   },
   "outputs": [],
   "source": [
    "vectorizer = CountVectorizer(ngram_range=(1,2))\n",
    "X = vectorizer.fit_transform(train.text_cleaned)"
   ]
  },
  {
   "cell_type": "code",
   "execution_count": 18,
   "metadata": {
    "_cell_guid": "c8d00fd8-753d-4802-9b4d-97a0522d8400",
    "_uuid": "61506a022be664dcce71cf5907fc6bbd78662c71",
    "scrolled": false
   },
   "outputs": [
    {
     "name": "stdout",
     "output_type": "stream",
     "text": [
      "LogLoss: 0.742 +- 0.040\n",
      "Wall time: 6min 16s\n"
     ]
    }
   ],
   "source": [
    "%%time\n",
    "scores = cross_val_score(LogisticRegression(), X, y, cv=10, n_jobs=-1, scoring='neg_log_loss')\n",
    "print('LogLoss: %.3f +- %.3f' % (-np.mean(scores), 2*np.std(scores)))"
   ]
  },
  {
   "cell_type": "code",
   "execution_count": 19,
   "metadata": {
    "_cell_guid": "ce6326bc-5daa-4698-81b6-5dd9e96c8608",
    "_uuid": "5362ec7dd510e4bb9865c0bcff758f003bef52d0"
   },
   "outputs": [
    {
     "name": "stdout",
     "output_type": "stream",
     "text": [
      "LogLoss: 0.957 +- 0.066\n",
      "Wall time: 1.11 s\n"
     ]
    }
   ],
   "source": [
    "%%time\n",
    "scores = cross_val_score(MultinomialNB(), X, y, cv=10, n_jobs=-1, scoring='neg_log_loss')\n",
    "print('LogLoss: %.3f +- %.3f' % (-np.mean(scores), 2*np.std(scores)))"
   ]
  },
  {
   "cell_type": "markdown",
   "metadata": {
    "_cell_guid": "23b871e0-5d4f-4f42-a6a4-7eb77686eada",
    "_uuid": "d188c38de981d69e00b94e767e0bb819c154d597"
   },
   "source": [
    "### CountVect + replaced entities text"
   ]
  },
  {
   "cell_type": "code",
   "execution_count": 20,
   "metadata": {
    "_cell_guid": "2bf13376-ba20-45dd-ad1e-49f3b69f482e",
    "_uuid": "a5bd6aab4e4fd6e53ad577e0506efc3f1718e360"
   },
   "outputs": [],
   "source": [
    "vectorizer = CountVectorizer(token_pattern=r'\\w{1,}', stop_words='english', ngram_range=(1,2))\n",
    "X = vectorizer.fit_transform(train.text_ent_repl)"
   ]
  },
  {
   "cell_type": "code",
   "execution_count": 21,
   "metadata": {
    "_cell_guid": "16bbc1ea-7a3b-4375-95a8-300b01edc11f",
    "_uuid": "f3f3cfc5d5d2187a11d3144683c35ad4e9580fff"
   },
   "outputs": [
    {
     "name": "stdout",
     "output_type": "stream",
     "text": [
      "LogLoss: 0.725 +- 0.036\n",
      "Wall time: 6min 8s\n"
     ]
    }
   ],
   "source": [
    "%%time\n",
    "scores = cross_val_score(LogisticRegression(), X, y, cv=10, n_jobs=-1, scoring='neg_log_loss')\n",
    "print('LogLoss: %.3f +- %.3f' % (-np.mean(scores), 2*np.std(scores)))"
   ]
  },
  {
   "cell_type": "code",
   "execution_count": 22,
   "metadata": {
    "_cell_guid": "907630e8-f1ac-420b-b426-524a356fd95b",
    "_uuid": "c0d9cd0c0416ad70d35f7800459321fedf817648"
   },
   "outputs": [
    {
     "name": "stdout",
     "output_type": "stream",
     "text": [
      "LogLoss: 1.039 +- 0.077\n",
      "Wall time: 1.08 s\n"
     ]
    }
   ],
   "source": [
    "%%time\n",
    "scores = cross_val_score(MultinomialNB(), X, y, cv=10, n_jobs=-1, scoring='neg_log_loss')\n",
    "print('LogLoss: %.3f +- %.3f' % (-np.mean(scores), 2*np.std(scores)))"
   ]
  },
  {
   "cell_type": "markdown",
   "metadata": {
    "_cell_guid": "493118f9-bd75-4929-af68-5b1ee2dee51f",
    "_uuid": "f1e68a4b0b72cd40da07be9594ae62d37e2e6590"
   },
   "source": [
    "Seems like replacing named entities doesn't help"
   ]
  },
  {
   "cell_type": "markdown",
   "metadata": {
    "_cell_guid": "e26cc480-5f9b-4a9d-ab99-b01d1747c152",
    "_uuid": "e91c8958f9107c7a73903e5d83d50df5714827a1"
   },
   "source": [
    "### TF-IDF + cleaned text"
   ]
  },
  {
   "cell_type": "code",
   "execution_count": 23,
   "metadata": {
    "_cell_guid": "9569f539-e77d-4eb7-b4c9-d8a54fb711c5",
    "_uuid": "ffa7648c3b7cae96974c22c50ecbe20604e9e015"
   },
   "outputs": [],
   "source": [
    "vectorizer = TfidfVectorizer(\n",
    "    token_pattern=r'\\w{1,}', ngram_range=(1, 1), \n",
    "    use_idf=True, smooth_idf=True, sublinear_tf=True,\n",
    ")\n",
    "X = vectorizer.fit_transform(train.text_cleaned)"
   ]
  },
  {
   "cell_type": "code",
   "execution_count": 24,
   "metadata": {
    "_cell_guid": "fadf6ada-4f8f-4901-87bc-190d1317b9bb",
    "_uuid": "57fe6a5e82d2395da3a88e7265e0d41a506a60ee"
   },
   "outputs": [
    {
     "name": "stdout",
     "output_type": "stream",
     "text": [
      "LogLoss: 0.802 +- 0.029\n",
      "Wall time: 27.9 s\n"
     ]
    }
   ],
   "source": [
    "%%time\n",
    "scores = cross_val_score(LogisticRegression(), X, y, cv=10, n_jobs=-1, scoring='neg_log_loss')\n",
    "print('LogLoss: %.3f +- %.3f' % (-np.mean(scores), 2*np.std(scores)))"
   ]
  },
  {
   "cell_type": "code",
   "execution_count": 25,
   "metadata": {
    "_cell_guid": "161d1dbd-3f08-4e6c-b786-0272b5d8722e",
    "_uuid": "771ae85f0416204297600fc9513326f42ac16a62"
   },
   "outputs": [
    {
     "name": "stdout",
     "output_type": "stream",
     "text": [
      "LogLoss: 0.924 +- 0.017\n",
      "Wall time: 311 ms\n"
     ]
    }
   ],
   "source": [
    "%%time\n",
    "scores = cross_val_score(MultinomialNB(), X, y, cv=10, n_jobs=-1, scoring='neg_log_loss')\n",
    "print('LogLoss: %.3f +- %.3f' % (-np.mean(scores), 2*np.std(scores)))"
   ]
  },
  {
   "cell_type": "markdown",
   "metadata": {
    "_cell_guid": "687de12a-6dbf-40c7-a80b-308dba801db8",
    "_uuid": "47045bf7e0e383adc81237248b9cb5a6b668610f"
   },
   "source": [
    "## Only meta-features"
   ]
  },
  {
   "cell_type": "code",
   "execution_count": 26,
   "metadata": {
    "_cell_guid": "f084d828-0909-4b2c-845e-2ddf42d47df9",
    "_uuid": "cd0325b289b4861bfd9c40532943d3fa045057c0"
   },
   "outputs": [],
   "source": [
    "import xgboost as xgb\n",
    "import lightgbm as lgb"
   ]
  },
  {
   "cell_type": "code",
   "execution_count": 27,
   "metadata": {
    "_cell_guid": "e08a48f2-26a1-4d02-8c45-cf7a2ad14f9e",
    "_uuid": "55c393cc77e9320522f153d55edf7ca5e4c1287b"
   },
   "outputs": [],
   "source": [
    "drop = ['index', 'text', 'text_cleaned', 'text_ent_repl']"
   ]
  },
  {
   "cell_type": "code",
   "execution_count": 28,
   "metadata": {
    "_cell_guid": "c9eba85a-c125-4176-acb9-cd55e1ec0d92",
    "_uuid": "833a4e643fd4108ed302412e926c0d90dbd2d4d4"
   },
   "outputs": [],
   "source": [
    "X_meta = train.drop(drop + ['author'], axis=1)"
   ]
  },
  {
   "cell_type": "code",
   "execution_count": 29,
   "metadata": {
    "_cell_guid": "032cb327-c0f7-46ab-a239-37a7dc248eb8",
    "_uuid": "671da8a339f8e65511e339b74083009d04a32d5e"
   },
   "outputs": [
    {
     "name": "stdout",
     "output_type": "stream",
     "text": [
      "LogLoss: 1.473 +- 0.003\n",
      "Wall time: 7.2 s\n"
     ]
    }
   ],
   "source": [
    "%%time\n",
    "lgbc = lgb.LGBMClassifier(objective='multiclass', n_estimators=100)\n",
    "scores = cross_val_score(lgbc, X_meta, y, cv=4, n_jobs=1, scoring='neg_log_loss')\n",
    "print('LogLoss: %.3f +- %.3f' % (-np.mean(scores), 2*np.std(scores)))"
   ]
  },
  {
   "cell_type": "code",
   "execution_count": 30,
   "metadata": {
    "_cell_guid": "8269ffcb-8eb2-4669-a38b-1b54f79f5ca7",
    "_uuid": "6e8f2b1391180cf5ac97195120ef9aaa9e73a912"
   },
   "outputs": [
    {
     "name": "stdout",
     "output_type": "stream",
     "text": [
      "LogLoss: 1.483 +- 0.003\n",
      "Wall time: 23.7 s\n"
     ]
    }
   ],
   "source": [
    "%%time\n",
    "xgbc = xgb.XGBClassifier(objective='multi:softprob', n_estimators=200)\n",
    "scores = cross_val_score(xgbc, X_meta, y, cv=4, n_jobs=4, scoring='neg_log_loss')\n",
    "print('LogLoss: %.3f +- %.3f' % (-np.mean(scores), 2*np.std(scores)))"
   ]
  },
  {
   "cell_type": "code",
   "execution_count": 31,
   "metadata": {
    "_cell_guid": "a9c20aaf-a802-4c0a-abf6-c22468c4804d",
    "_uuid": "b1c107fbb550c1c11004ab76f03d1dd26a67d937"
   },
   "outputs": [],
   "source": [
    "xgbc.fit(X_meta, y);\n",
    "xgb.plot_importance(xgbc);"
   ]
  },
  {
   "cell_type": "markdown",
   "metadata": {
    "_cell_guid": "187e03d8-ff2e-41cd-a3e3-e28c79898dd6",
    "_uuid": "9bac8fc3603dcd53f86d5a317e8d923d7c1eb316"
   },
   "source": [
    "## Stack 'em"
   ]
  },
  {
   "cell_type": "code",
   "execution_count": 32,
   "metadata": {
    "_cell_guid": "bbf0d908-857a-45f9-9d46-72b0a6ada0a2",
    "_uuid": "cf782bc71ad34d249659207145d62c83aeda5b2c"
   },
   "outputs": [],
   "source": [
    "from sklearn.model_selection import StratifiedKFold\n",
    "from sklearn import metrics"
   ]
  },
  {
   "cell_type": "code",
   "execution_count": 33,
   "metadata": {
    "_cell_guid": "583dbaca-a44c-4be3-947f-05991f893dc6",
    "_uuid": "2324500addc4faee45e6fa8d7a9407d5fb3463f5"
   },
   "outputs": [],
   "source": [
    "def add_prob_features(vectorizer, col, model, prefix, cv=5):\n",
    "    vectorizer.fit(train[col].append(test[col]))\n",
    "    X = vectorizer.transform(train[col])\n",
    "    X_test = vectorizer.transform(test[col])\n",
    "    \n",
    "    cv_scores = []\n",
    "    pred_test = 0\n",
    "    pred_train = np.zeros([train.shape[0], 5])\n",
    "    skf = StratifiedKFold(n_splits=cv, shuffle=True, random_state=123)\n",
    "    \n",
    "    print('CV started')\n",
    "    for train_index, dev_index in skf.split(X, y):\n",
    "        X_train, X_dev = X[train_index], X[dev_index]\n",
    "        y_train, y_dev = y[train_index], y[dev_index]\n",
    "        \n",
    "        model.fit(X_train, y_train)\n",
    "        pred_dev   = model.predict_proba(X_dev)\n",
    "        pred_test += model.predict_proba(X_test)\n",
    "    \n",
    "        pred_train[dev_index, :] = pred_dev\n",
    "        cv_scores.append(metrics.log_loss(y_dev, pred_dev))\n",
    "        print('.', end='')\n",
    "        \n",
    "    print('')\n",
    "    print(\"Mean CV LogLoss: %.3f\" % (np.mean(cv_scores)))\n",
    "    pred_test /= cv\n",
    "\n",
    "    train[prefix+'0'] = pred_train[:, 0]\n",
    "    train[prefix+'1'] = pred_train[:, 1]\n",
    "    train[prefix+'2'] = pred_train[:, 2]\n",
    "    train[prefix+'3'] = pred_train[:, 3]\n",
    "    train[prefix+'4'] = pred_train[:, 4]\n",
    "    \n",
    "    test[prefix+'0'] = pred_test[:, 0]\n",
    "    test[prefix+'1'] = pred_test[:, 1]\n",
    "    test[prefix+'2'] = pred_test[:, 2]\n",
    "    test[prefix+'3'] = pred_test[:, 3]\n",
    "    test[prefix+'4'] = pred_test[:, 4]"
   ]
  },
  {
   "cell_type": "code",
   "execution_count": 34,
   "metadata": {
    "_cell_guid": "41475617-1d75-49b5-8fd3-ff532d945653",
    "_uuid": "25a08ab9ea0256f42206c390f1b39142303c0610"
   },
   "outputs": [
    {
     "name": "stdout",
     "output_type": "stream",
     "text": [
      "CV started\n",
      "........................................\n",
      "Mean CV LogLoss: 1.149\n"
     ]
    }
   ],
   "source": [
    "vectorizer = CountVectorizer(\n",
    "    token_pattern=r'\\w{1,}',\n",
    "    ngram_range=(1, 2), stop_words='english'\n",
    ")\n",
    "add_prob_features(vectorizer, 'text', MultinomialNB(), 'nb_ctv_', cv=40)"
   ]
  },
  {
   "cell_type": "code",
   "execution_count": 35,
   "metadata": {
    "_cell_guid": "629486c0-5213-403b-a446-0e1979e6d5dc",
    "_uuid": "94bf4cc366db3878f371a0501ff0d72e2839066e"
   },
   "outputs": [
    {
     "name": "stdout",
     "output_type": "stream",
     "text": [
      "CV started\n",
      "........................................\n",
      "Mean CV LogLoss: 0.917\n"
     ]
    }
   ],
   "source": [
    "vectorizer = TfidfVectorizer(\n",
    "    token_pattern=r'\\w{1,}', ngram_range=(1, 1), \n",
    "    use_idf=True, smooth_idf=True, sublinear_tf=True,\n",
    ")\n",
    "add_prob_features(vectorizer, 'text_cleaned', MultinomialNB(), 'nb_tfv_', cv=40)"
   ]
  },
  {
   "cell_type": "code",
   "execution_count": 36,
   "metadata": {
    "_cell_guid": "d1409ae7-7afe-4bd3-b3b5-1e34ff35b5a3",
    "_uuid": "fa5e7dafdd6ea8ba8d404ca8df437d3835f0cb13"
   },
   "outputs": [
    {
     "name": "stdout",
     "output_type": "stream",
     "text": [
      "CV started\n",
      "........................................\n",
      "Mean CV LogLoss: 1.678\n"
     ]
    }
   ],
   "source": [
    "vectorizer = TfidfVectorizer(\n",
    "    ngram_range=(1, 5), analyzer='char'\n",
    ")\n",
    "add_prob_features(vectorizer, 'text', MultinomialNB(), 'nb_char_', cv=40)"
   ]
  },
  {
   "cell_type": "code",
   "execution_count": 37,
   "metadata": {
    "_cell_guid": "9a44df49-ac07-448a-b4e9-31b3fd8fbe5e",
    "_uuid": "a0da067781b1aa71438e15303f6431f135c8d3b0"
   },
   "outputs": [
    {
     "name": "stdout",
     "output_type": "stream",
     "text": [
      "CV started\n",
      "........................................\n",
      "Mean CV LogLoss: 1.149\n"
     ]
    }
   ],
   "source": [
    "vectorizer = CountVectorizer(\n",
    "    token_pattern=r'\\w{1,}',\n",
    "    ngram_range=(1, 2), stop_words='english'\n",
    ")\n",
    "add_prob_features(vectorizer, 'text_ent_repl', MultinomialNB(), 'nb_ent_', cv=40)"
   ]
  },
  {
   "cell_type": "code",
   "execution_count": 43,
   "metadata": {
    "_cell_guid": "b2cd20d1-bc06-4b4b-80be-450763dc8af4",
    "_uuid": "f56ac84967d8523e8720bbfba07f5c1898537b8c"
   },
   "outputs": [],
   "source": [
    "from sklearn import model_selection\n",
    "X = train.drop(drop + ['author'], axis=1)\n",
    "X_test = test.drop(drop, axis=1)\n",
    "clf = xgb.XGBClassifier(objective = 'multi:softprob', nthread=1)\n",
    "\n",
    "parameters = {\n",
    "    'n_estimators': [150],\n",
    "    'max_depth': [3],\n",
    "    'subsample': [0.65],\n",
    "    'colsample_bytree': [0.95],\n",
    "    'min_child_weight': [1],\n",
    "}\n",
    "\n",
    "clf = model_selection.GridSearchCV(clf, parameters, n_jobs=4, scoring='neg_log_loss', refit=True)  "
   ]
  },
  {
   "cell_type": "code",
   "execution_count": 44,
   "metadata": {
    "_cell_guid": "56c7c34e-2c60-4a84-a170-f57c33070349",
    "_uuid": "e5ea0f80ea1ed89be052ce5153b393fcd3f3f5d4"
   },
   "outputs": [
    {
     "name": "stdout",
     "output_type": "stream",
     "text": [
      "CV started\n",
      ".....\n",
      "Mean CV LogLoss: 0.496\n"
     ]
    }
   ],
   "source": [
    "cv = 5\n",
    "cv_scores = []\n",
    "pred_test = 0\n",
    "pred_train = np.zeros([train.shape[0], 5])\n",
    "skf = StratifiedKFold(n_splits=cv, shuffle=True, random_state=123)\n",
    "sub_train = pd.DataFrame(columns=[0, 1, 2, 3, 4])\n",
    "sub_train.insert(0, 'index', X.index)\n",
    "sub_test = pd.DataFrame(columns=[0, 1, 2, 3, 4])\n",
    "sub_test.insert(0, 'index', test.index)\n",
    "\n",
    "print('CV started')\n",
    "for train_index, dev_index in skf.split(X, y):\n",
    "    X_train, X_dev = X.iloc[train_index], X.iloc[dev_index]\n",
    "    y_train, y_dev = y.iloc[train_index], y.iloc[dev_index]\n",
    "        \n",
    "    clf.fit(X_train, y_train)\n",
    "    pred_dev   = clf.predict_proba(X_dev)\n",
    "    pred_test += clf.predict_proba(X_test)\n",
    "    \n",
    "    pred_train[dev_index, :] = pred_dev\n",
    "    cv_scores.append(metrics.log_loss(y_dev, pred_dev))\n",
    "    print('.', end='')\n",
    "\n",
    "print('')\n",
    "print(\"Mean CV LogLoss: %.3f\" % (np.mean(cv_scores)))\n",
    "pred_test /= cv\n",
    "\n",
    "sub_train[0] = pred_train[:, 0]\n",
    "sub_train[1] = pred_train[:, 1]\n",
    "sub_train[2] = pred_train[:, 2]\n",
    "sub_train[3] = pred_train[:, 3]\n",
    "sub_train[4] = pred_train[:, 4]\n",
    "\n",
    "sub_test[0] = pred_test[:, 0]\n",
    "sub_test[1] = pred_test[:, 1]\n",
    "sub_test[2] = pred_test[:, 2]\n",
    "sub_test[3] = pred_test[:, 3]\n",
    "sub_test[4] = pred_test[:, 4]"
   ]
  },
  {
   "cell_type": "code",
   "execution_count": 45,
   "metadata": {
    "_cell_guid": "cbdbdc09-33fa-4a98-a993-2773f4f2694c",
    "_uuid": "545b606b5a494a3ba41c3477c05ad0b35a99de5d"
   },
   "outputs": [],
   "source": [
    "sub_train.to_csv('submission1_train.csv', index=False)\n",
    "sub_test.to_csv('submission1_test.csv', index=False)"
   ]
  },
  {
   "cell_type": "code",
   "execution_count": null,
   "metadata": {
    "_cell_guid": "76bd1ba7-b914-4629-9ea6-d5cf9a16bc36",
    "_uuid": "051b4aac14f1fa20737fbeccc0dcc06b4f59c84b"
   },
   "outputs": [],
   "source": [
    "# https://www.kaggle.com/sandpiturtle/eda-fe-nb-xgb"
   ]
  }
 ],
 "metadata": {
  "kernelspec": {
   "display_name": "Python 3",
   "language": "python",
   "name": "python3"
  },
  "language_info": {
   "codemirror_mode": {
    "name": "ipython",
    "version": 3
   },
   "file_extension": ".py",
   "mimetype": "text/x-python",
   "name": "python",
   "nbconvert_exporter": "python",
   "pygments_lexer": "ipython3",
   "version": "3.7.4"
  },
  "toc": {
   "colors": {
    "hover_highlight": "#DAA520",
    "navigate_num": "#000000",
    "navigate_text": "#333333",
    "running_highlight": "#FF0000",
    "selected_highlight": "#FFD700",
    "sidebar_border": "#EEEEEE",
    "wrapper_background": "#FFFFFF"
   },
   "moveMenuLeft": true,
   "nav_menu": {
    "height": "138px",
    "width": "252px"
   },
   "navigate_menu": true,
   "number_sections": true,
   "sideBar": true,
   "skip_h1_title": false,
   "threshold": 4,
   "toc_cell": false,
   "toc_section_display": "block",
   "toc_window_display": false,
   "widenNotebook": false
  },
  "varInspector": {
   "cols": {
    "lenName": 16,
    "lenType": 16,
    "lenVar": 40
   },
   "kernels_config": {
    "python": {
     "delete_cmd_postfix": "",
     "delete_cmd_prefix": "del ",
     "library": "var_list.py",
     "varRefreshCmd": "print(var_dic_list())"
    },
    "r": {
     "delete_cmd_postfix": ") ",
     "delete_cmd_prefix": "rm(",
     "library": "var_list.r",
     "varRefreshCmd": "cat(var_dic_list()) "
    }
   },
   "types_to_exclude": [
    "module",
    "function",
    "builtin_function_or_method",
    "instance",
    "_Feature"
   ],
   "window_display": false
  }
 },
 "nbformat": 4,
 "nbformat_minor": 1
}
